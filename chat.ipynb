{
  "nbformat": 4,
  "nbformat_minor": 0,
  "metadata": {
    "colab": {
      "provenance": [],
      "gpuType": "T4"
    },
    "kernelspec": {
      "name": "python3",
      "display_name": "Python 3"
    },
    "language_info": {
      "name": "python"
    },
    "accelerator": "GPU"
  },
  "cells": [
    {
      "cell_type": "code",
      "source": [
        "repo_url = \"https://github.com/MatheusSilvaGoncalves/generate_chat\"\n",
        "repo_name = \"generate_chat\"\n",
        "main_script = \"main.py\"\n",
        "import os\n",
        "\n",
        "if not os.path.exists(repo_name):\n",
        "    !git clone {repo_url}\n",
        "    %cd {repo_name}\n",
        "else:\n",
        "    %cd {repo_name}\n",
        "    !git pull\n",
        "\n",
        "!pip install -r requirements.txt\n"
      ],
      "metadata": {
        "colab": {
          "base_uri": "https://localhost:8080/"
        },
        "id": "QF7xevXc4jho",
        "outputId": "65bff5bf-778f-42a9-b386-615cddc8eaba"
      },
      "execution_count": 4,
      "outputs": [
        {
          "output_type": "stream",
          "name": "stdout",
          "text": [
            "Cloning into 'generate_chat'...\n",
            "remote: Enumerating objects: 44, done.\u001b[K\n",
            "remote: Counting objects: 100% (44/44), done.\u001b[K\n",
            "remote: Compressing objects: 100% (30/30), done.\u001b[K\n",
            "remote: Total 44 (delta 14), reused 41 (delta 11), pack-reused 0 (from 0)\u001b[K\n",
            "Receiving objects: 100% (44/44), 591.72 KiB | 34.81 MiB/s, done.\n",
            "Resolving deltas: 100% (14/14), done.\n",
            "/content/generate_chat/generate_chat/generate_chat\n",
            "Requirement already satisfied: pdfplumber==0.11.7 in /usr/local/lib/python3.12/dist-packages (from -r requirements.txt (line 1)) (0.11.7)\n",
            "Requirement already satisfied: requests==2.32.4 in /usr/local/lib/python3.12/dist-packages (from -r requirements.txt (line 2)) (2.32.4)\n",
            "Requirement already satisfied: transformers==4.57.1 in /usr/local/lib/python3.12/dist-packages (from -r requirements.txt (line 3)) (4.57.1)\n",
            "Requirement already satisfied: torch in /usr/local/lib/python3.12/dist-packages (from -r requirements.txt (line 4)) (2.8.0+cu126)\n",
            "Requirement already satisfied: pdfminer.six==20250506 in /usr/local/lib/python3.12/dist-packages (from pdfplumber==0.11.7->-r requirements.txt (line 1)) (20250506)\n",
            "Requirement already satisfied: Pillow>=9.1 in /usr/local/lib/python3.12/dist-packages (from pdfplumber==0.11.7->-r requirements.txt (line 1)) (11.3.0)\n",
            "Requirement already satisfied: pypdfium2>=4.18.0 in /usr/local/lib/python3.12/dist-packages (from pdfplumber==0.11.7->-r requirements.txt (line 1)) (5.0.0)\n",
            "Requirement already satisfied: charset_normalizer<4,>=2 in /usr/local/lib/python3.12/dist-packages (from requests==2.32.4->-r requirements.txt (line 2)) (3.4.4)\n",
            "Requirement already satisfied: idna<4,>=2.5 in /usr/local/lib/python3.12/dist-packages (from requests==2.32.4->-r requirements.txt (line 2)) (3.11)\n",
            "Requirement already satisfied: urllib3<3,>=1.21.1 in /usr/local/lib/python3.12/dist-packages (from requests==2.32.4->-r requirements.txt (line 2)) (2.5.0)\n",
            "Requirement already satisfied: certifi>=2017.4.17 in /usr/local/lib/python3.12/dist-packages (from requests==2.32.4->-r requirements.txt (line 2)) (2025.10.5)\n",
            "Requirement already satisfied: filelock in /usr/local/lib/python3.12/dist-packages (from transformers==4.57.1->-r requirements.txt (line 3)) (3.20.0)\n",
            "Requirement already satisfied: huggingface-hub<1.0,>=0.34.0 in /usr/local/lib/python3.12/dist-packages (from transformers==4.57.1->-r requirements.txt (line 3)) (0.36.0)\n",
            "Requirement already satisfied: numpy>=1.17 in /usr/local/lib/python3.12/dist-packages (from transformers==4.57.1->-r requirements.txt (line 3)) (2.0.2)\n",
            "Requirement already satisfied: packaging>=20.0 in /usr/local/lib/python3.12/dist-packages (from transformers==4.57.1->-r requirements.txt (line 3)) (25.0)\n",
            "Requirement already satisfied: pyyaml>=5.1 in /usr/local/lib/python3.12/dist-packages (from transformers==4.57.1->-r requirements.txt (line 3)) (6.0.3)\n",
            "Requirement already satisfied: regex!=2019.12.17 in /usr/local/lib/python3.12/dist-packages (from transformers==4.57.1->-r requirements.txt (line 3)) (2024.11.6)\n",
            "Requirement already satisfied: tokenizers<=0.23.0,>=0.22.0 in /usr/local/lib/python3.12/dist-packages (from transformers==4.57.1->-r requirements.txt (line 3)) (0.22.1)\n",
            "Requirement already satisfied: safetensors>=0.4.3 in /usr/local/lib/python3.12/dist-packages (from transformers==4.57.1->-r requirements.txt (line 3)) (0.6.2)\n",
            "Requirement already satisfied: tqdm>=4.27 in /usr/local/lib/python3.12/dist-packages (from transformers==4.57.1->-r requirements.txt (line 3)) (4.67.1)\n",
            "Requirement already satisfied: cryptography>=36.0.0 in /usr/local/lib/python3.12/dist-packages (from pdfminer.six==20250506->pdfplumber==0.11.7->-r requirements.txt (line 1)) (43.0.3)\n",
            "Requirement already satisfied: typing-extensions>=4.10.0 in /usr/local/lib/python3.12/dist-packages (from torch->-r requirements.txt (line 4)) (4.15.0)\n",
            "Requirement already satisfied: setuptools in /usr/local/lib/python3.12/dist-packages (from torch->-r requirements.txt (line 4)) (75.2.0)\n",
            "Requirement already satisfied: sympy>=1.13.3 in /usr/local/lib/python3.12/dist-packages (from torch->-r requirements.txt (line 4)) (1.13.3)\n",
            "Requirement already satisfied: networkx in /usr/local/lib/python3.12/dist-packages (from torch->-r requirements.txt (line 4)) (3.5)\n",
            "Requirement already satisfied: jinja2 in /usr/local/lib/python3.12/dist-packages (from torch->-r requirements.txt (line 4)) (3.1.6)\n",
            "Requirement already satisfied: fsspec in /usr/local/lib/python3.12/dist-packages (from torch->-r requirements.txt (line 4)) (2025.3.0)\n",
            "Requirement already satisfied: nvidia-cuda-nvrtc-cu12==12.6.77 in /usr/local/lib/python3.12/dist-packages (from torch->-r requirements.txt (line 4)) (12.6.77)\n",
            "Requirement already satisfied: nvidia-cuda-runtime-cu12==12.6.77 in /usr/local/lib/python3.12/dist-packages (from torch->-r requirements.txt (line 4)) (12.6.77)\n",
            "Requirement already satisfied: nvidia-cuda-cupti-cu12==12.6.80 in /usr/local/lib/python3.12/dist-packages (from torch->-r requirements.txt (line 4)) (12.6.80)\n",
            "Requirement already satisfied: nvidia-cudnn-cu12==9.10.2.21 in /usr/local/lib/python3.12/dist-packages (from torch->-r requirements.txt (line 4)) (9.10.2.21)\n",
            "Requirement already satisfied: nvidia-cublas-cu12==12.6.4.1 in /usr/local/lib/python3.12/dist-packages (from torch->-r requirements.txt (line 4)) (12.6.4.1)\n",
            "Requirement already satisfied: nvidia-cufft-cu12==11.3.0.4 in /usr/local/lib/python3.12/dist-packages (from torch->-r requirements.txt (line 4)) (11.3.0.4)\n",
            "Requirement already satisfied: nvidia-curand-cu12==10.3.7.77 in /usr/local/lib/python3.12/dist-packages (from torch->-r requirements.txt (line 4)) (10.3.7.77)\n",
            "Requirement already satisfied: nvidia-cusolver-cu12==11.7.1.2 in /usr/local/lib/python3.12/dist-packages (from torch->-r requirements.txt (line 4)) (11.7.1.2)\n",
            "Requirement already satisfied: nvidia-cusparse-cu12==12.5.4.2 in /usr/local/lib/python3.12/dist-packages (from torch->-r requirements.txt (line 4)) (12.5.4.2)\n",
            "Requirement already satisfied: nvidia-cusparselt-cu12==0.7.1 in /usr/local/lib/python3.12/dist-packages (from torch->-r requirements.txt (line 4)) (0.7.1)\n",
            "Requirement already satisfied: nvidia-nccl-cu12==2.27.3 in /usr/local/lib/python3.12/dist-packages (from torch->-r requirements.txt (line 4)) (2.27.3)\n",
            "Requirement already satisfied: nvidia-nvtx-cu12==12.6.77 in /usr/local/lib/python3.12/dist-packages (from torch->-r requirements.txt (line 4)) (12.6.77)\n",
            "Requirement already satisfied: nvidia-nvjitlink-cu12==12.6.85 in /usr/local/lib/python3.12/dist-packages (from torch->-r requirements.txt (line 4)) (12.6.85)\n",
            "Requirement already satisfied: nvidia-cufile-cu12==1.11.1.6 in /usr/local/lib/python3.12/dist-packages (from torch->-r requirements.txt (line 4)) (1.11.1.6)\n",
            "Requirement already satisfied: triton==3.4.0 in /usr/local/lib/python3.12/dist-packages (from torch->-r requirements.txt (line 4)) (3.4.0)\n",
            "Requirement already satisfied: hf-xet<2.0.0,>=1.1.3 in /usr/local/lib/python3.12/dist-packages (from huggingface-hub<1.0,>=0.34.0->transformers==4.57.1->-r requirements.txt (line 3)) (1.2.0)\n",
            "Requirement already satisfied: mpmath<1.4,>=1.1.0 in /usr/local/lib/python3.12/dist-packages (from sympy>=1.13.3->torch->-r requirements.txt (line 4)) (1.3.0)\n",
            "Requirement already satisfied: MarkupSafe>=2.0 in /usr/local/lib/python3.12/dist-packages (from jinja2->torch->-r requirements.txt (line 4)) (3.0.3)\n",
            "Requirement already satisfied: cffi>=1.12 in /usr/local/lib/python3.12/dist-packages (from cryptography>=36.0.0->pdfminer.six==20250506->pdfplumber==0.11.7->-r requirements.txt (line 1)) (2.0.0)\n",
            "Requirement already satisfied: pycparser in /usr/local/lib/python3.12/dist-packages (from cffi>=1.12->cryptography>=36.0.0->pdfminer.six==20250506->pdfplumber==0.11.7->-r requirements.txt (line 1)) (2.23)\n"
          ]
        }
      ]
    },
    {
      "cell_type": "code",
      "source": [
        "from main import start_chat\n",
        "random.seed(0)\n",
        "model_config_dict = {\n",
        "    \"processing\":\n",
        "     [{\"task\": \"summarization\",\n",
        "       \"name\": \"sshleifer/distilbart-cnn-12-6\"}],\n",
        "    \"question\":\n",
        "     [{\"task\": \"text2text-generation\",\n",
        "       \"name\": \"google/flan-t5-base\",\n",
        "       \"prompt\": \"Generate a clear and concise question from the text. The question should be factual and directly answerable from the text.\"}],\n",
        "    \"correct_answer\":\n",
        "     [{\"task\": \"text2text-generation\",\n",
        "       \"name\": \"google/flan-t5-base\",\n",
        "       \"prompt\": \"Answer the following question based on the text. Avoid single-word answers.\"}],\n",
        "    \"wrong_answer\":\n",
        "     [{\"task\": \"text2text-generation\",\n",
        "       \"name\": \"google/flan-t5-base\",\n",
        "       \"prompt\": \"Generate a plausible but incorrect answer for the following question. Please, do not repeat the correct answer.\",\n",
        "       \"kwargs\":\n",
        "        {\"max_new_tokens\": 100,\n",
        "         \"temperature\": 1,\n",
        "         \"top_k\": 50}},\n",
        "          {\"task\": \"text2text-generation\",\n",
        "           \"name\": \"google/flan-t5-base\",\n",
        "           \"prompt\": \"Generate a clearly incorrect answer for the following question. Please, do not repeat the correct answer.\",\n",
        "           \"kwargs\":\n",
        "            {\"max_new_tokens\": 25,\n",
        "             \"temperature\": 1.5,\n",
        "             \"top_k\": 5}},\n",
        "              {\"task\": \"text2text-generation\",\n",
        "               \"name\": \"google/flan-t5-base\",\n",
        "               \"prompt\": \"Modify the correct answer to be false. Please, do not repeat the correct answer.\",\n",
        "               \"kwargs\":\n",
        "                {\"max_new_tokens\": 200,\n",
        "                 \"temperature\": 0.5,\n",
        "                 \"top_k\": 10}}\n",
        "      ]\n",
        "    }\n",
        "text_config_dict = {'max_section_length': 500, 'include_section_title': False}\n",
        "view_debug = True\n",
        "start_chat(10, model_config_dict, text_config_dict, view_debug)\n"
      ],
      "metadata": {
        "colab": {
          "base_uri": "https://localhost:8080/"
        },
        "id": "1PJePrbk40am",
        "outputId": "f4eb8df5-9dbd-4088-ec9b-83e0e4ac3cad"
      },
      "execution_count": null,
      "outputs": [
        {
          "output_type": "stream",
          "name": "stdout",
          "text": [
            "=== Concurso Renda Extra Ton ===\n",
            "9.1. Para fins da presente Cláusula, os termos iniciados em letra maiúscula “Controladorˮ, “Dado Pessoalˮ, “Base Legalˮ, “Tratamentoˮ e “Titularˮ, independentemente de estarem no feminino ou masculino, plural ou singular, terão o significado que lhes é atribuído no art. 5º, da Lei nº 13.709/18 (“LGPDˮ), conforme alterada.\n",
            "Original content:  9.1. Para fins da presente Cláusula, os termos iniciados em letra maiúscula “Controladorˮ, “Dado Pessoalˮ, “Base Legalˮ, “Tratamentoˮ e “Titularˮ, independentemente de estarem no feminino ou masculino, plural ou singular, terão o significado que lhes é atribuído no art. 5º, da Lei nº 13.709/18 (“LGPDˮ), conforme alterada.\n",
            "Content translated to English:  For the purposes of this Clause, the terms initiated in the capital letter “Controlador”, “Dado Pessoal”, “Base Legal”, “Tratamento” and “Titular”, regardless of being in female or male, plural or singular, will have the meaning assigned to them in Article 5 of Law No 13.709/18 (“LGPD), as amended..\n",
            "Summarized content:   The terms initiated in the capital letter “Controlador”, “Dado Pessoal” and “Tratamento” will have the meaning assigned to them in Article 5 of Law No 13.709/18 (“LGPD), as amended..\n",
            "English Question:  What is the capital letter of the term \"Controlador\" and \"Dado Pessoal\"?\n",
            "English Correct Answer:  Controlador\n",
            "Portuguese answers:  Controlador.\n",
            "Portuguese answers:  Controlador.\n",
            "Portuguese answers:  Controlador.\n",
            "Portuguese answers:  Controlador.\n",
            "\n",
            "Pergunta 1: Qual a letra maiúscula do termo \"Controlador\" e \"Dado Pessoal\"?.\n",
            "1) Controlador.\n",
            "2) Controlador.\n",
            "3) Controlador.\n",
            "4) Controlador.\n",
            "Escolha a alternativa correta (1-4): 2\n",
            "❌ Errado! A resposta correta é: Controlador.\n",
            "10.2. O Pagar.me se reserva no direito de avaliar a natureza e a gravidade de qualquer violação por parte dos Usuários, levando em consideração as circunstâncias individuais de cada caso.\n",
            "Original content:  10.2. O Pagar.me se reserva no direito de avaliar a natureza e a gravidade de qualquer violação por parte dos Usuários, levando em consideração as circunstâncias individuais de cada caso.\n",
            "Content translated to English:  The Pagar.me reserves the right to assess the nature and severity of any infringement by users, taking into account the individual circumstances of each case..\n",
            "Summarized content:   Pagar.me reserves the right to assess the nature and severity of any infringement by users, taking into account the individual circumstances of each case . Users can choose to opt out of using the site to see the content of their content . The Pagar .me will not comment on the content content of any content that may have been published .\n",
            "English Question:  What is the purpose of Pagar.me ?\n",
            "English Correct Answer:  to assess the nature and severity of any infringement by users\n",
            "Portuguese answers:  avaliar a natureza e a gravidade de qualquer infracção por parte dos utilizadores.\n",
            "Portuguese answers:  fornecer informações ao público em geral.\n",
            "Portuguese answers:  fornecer informações ao público em geral.\n",
            "Portuguese answers:  fornecer informações ao público em geral.\n",
            "\n",
            "Pergunta 2: Qual é o propósito de Pagar.me ?.\n",
            "1) fornecer informações ao público em geral.\n",
            "2) avaliar a natureza e a gravidade de qualquer infracção por parte dos utilizadores.\n",
            "3) fornecer informações ao público em geral.\n",
            "4) fornecer informações ao público em geral.\n"
          ]
        }
      ]
    }
  ]
}