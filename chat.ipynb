{
  "nbformat": 4,
  "nbformat_minor": 0,
  "metadata": {
    "colab": {
      "provenance": [],
      "gpuType": "T4"
    },
    "kernelspec": {
      "name": "python3",
      "display_name": "Python 3"
    },
    "language_info": {
      "name": "python"
    },
    "accelerator": "GPU"
  },
  "cells": [
    {
      "cell_type": "code",
      "source": [
        "repo_url = \"https://github.com/MatheusSilvaGoncalves/generate_chat\"\n",
        "repo_name = \"generate_chat\"\n",
        "main_script = \"main.py\"\n",
        "import os\n",
        "\n",
        "if not os.path.exists(repo_name):\n",
        "    !git clone {repo_url}\n",
        "    %cd {repo_name}\n",
        "else:\n",
        "    %cd {repo_name}\n",
        "    !git pull\n",
        "\n",
        "!pip install -r requirements.txt"
      ],
      "metadata": {
        "colab": {
          "base_uri": "https://localhost:8080/"
        },
        "id": "QF7xevXc4jho",
        "outputId": "07aa4f3b-3362-45ce-cc02-0e9139408254"
      },
      "execution_count": 2,
      "outputs": [
        {
          "output_type": "stream",
          "name": "stdout",
          "text": [
            "Cloning into 'generate_chat'...\n",
            "remote: Enumerating objects: 36, done.\u001b[K\n",
            "remote: Counting objects: 100% (36/36), done.\u001b[K\n",
            "remote: Compressing objects: 100% (25/25), done.\u001b[K\n",
            "remote: Total 36 (delta 9), reused 35 (delta 8), pack-reused 0 (from 0)\u001b[K\n",
            "Receiving objects: 100% (36/36), 587.88 KiB | 36.74 MiB/s, done.\n",
            "Resolving deltas: 100% (9/9), done.\n",
            "/content/generate_chat/generate_chat\n",
            "Requirement already satisfied: pdfplumber==0.11.7 in /usr/local/lib/python3.12/dist-packages (from -r requirements.txt (line 1)) (0.11.7)\n",
            "Requirement already satisfied: requests==2.32.4 in /usr/local/lib/python3.12/dist-packages (from -r requirements.txt (line 2)) (2.32.4)\n",
            "Requirement already satisfied: transformers==4.57.1 in /usr/local/lib/python3.12/dist-packages (from -r requirements.txt (line 3)) (4.57.1)\n",
            "Requirement already satisfied: torch in /usr/local/lib/python3.12/dist-packages (from -r requirements.txt (line 4)) (2.8.0+cu126)\n",
            "Requirement already satisfied: pdfminer.six==20250506 in /usr/local/lib/python3.12/dist-packages (from pdfplumber==0.11.7->-r requirements.txt (line 1)) (20250506)\n",
            "Requirement already satisfied: Pillow>=9.1 in /usr/local/lib/python3.12/dist-packages (from pdfplumber==0.11.7->-r requirements.txt (line 1)) (11.3.0)\n",
            "Requirement already satisfied: pypdfium2>=4.18.0 in /usr/local/lib/python3.12/dist-packages (from pdfplumber==0.11.7->-r requirements.txt (line 1)) (5.0.0)\n",
            "Requirement already satisfied: charset_normalizer<4,>=2 in /usr/local/lib/python3.12/dist-packages (from requests==2.32.4->-r requirements.txt (line 2)) (3.4.4)\n",
            "Requirement already satisfied: idna<4,>=2.5 in /usr/local/lib/python3.12/dist-packages (from requests==2.32.4->-r requirements.txt (line 2)) (3.11)\n",
            "Requirement already satisfied: urllib3<3,>=1.21.1 in /usr/local/lib/python3.12/dist-packages (from requests==2.32.4->-r requirements.txt (line 2)) (2.5.0)\n",
            "Requirement already satisfied: certifi>=2017.4.17 in /usr/local/lib/python3.12/dist-packages (from requests==2.32.4->-r requirements.txt (line 2)) (2025.10.5)\n",
            "Requirement already satisfied: filelock in /usr/local/lib/python3.12/dist-packages (from transformers==4.57.1->-r requirements.txt (line 3)) (3.20.0)\n",
            "Requirement already satisfied: huggingface-hub<1.0,>=0.34.0 in /usr/local/lib/python3.12/dist-packages (from transformers==4.57.1->-r requirements.txt (line 3)) (0.36.0)\n",
            "Requirement already satisfied: numpy>=1.17 in /usr/local/lib/python3.12/dist-packages (from transformers==4.57.1->-r requirements.txt (line 3)) (2.0.2)\n",
            "Requirement already satisfied: packaging>=20.0 in /usr/local/lib/python3.12/dist-packages (from transformers==4.57.1->-r requirements.txt (line 3)) (25.0)\n",
            "Requirement already satisfied: pyyaml>=5.1 in /usr/local/lib/python3.12/dist-packages (from transformers==4.57.1->-r requirements.txt (line 3)) (6.0.3)\n",
            "Requirement already satisfied: regex!=2019.12.17 in /usr/local/lib/python3.12/dist-packages (from transformers==4.57.1->-r requirements.txt (line 3)) (2024.11.6)\n",
            "Requirement already satisfied: tokenizers<=0.23.0,>=0.22.0 in /usr/local/lib/python3.12/dist-packages (from transformers==4.57.1->-r requirements.txt (line 3)) (0.22.1)\n",
            "Requirement already satisfied: safetensors>=0.4.3 in /usr/local/lib/python3.12/dist-packages (from transformers==4.57.1->-r requirements.txt (line 3)) (0.6.2)\n",
            "Requirement already satisfied: tqdm>=4.27 in /usr/local/lib/python3.12/dist-packages (from transformers==4.57.1->-r requirements.txt (line 3)) (4.67.1)\n",
            "Requirement already satisfied: cryptography>=36.0.0 in /usr/local/lib/python3.12/dist-packages (from pdfminer.six==20250506->pdfplumber==0.11.7->-r requirements.txt (line 1)) (43.0.3)\n",
            "Requirement already satisfied: typing-extensions>=4.10.0 in /usr/local/lib/python3.12/dist-packages (from torch->-r requirements.txt (line 4)) (4.15.0)\n",
            "Requirement already satisfied: setuptools in /usr/local/lib/python3.12/dist-packages (from torch->-r requirements.txt (line 4)) (75.2.0)\n",
            "Requirement already satisfied: sympy>=1.13.3 in /usr/local/lib/python3.12/dist-packages (from torch->-r requirements.txt (line 4)) (1.13.3)\n",
            "Requirement already satisfied: networkx in /usr/local/lib/python3.12/dist-packages (from torch->-r requirements.txt (line 4)) (3.5)\n",
            "Requirement already satisfied: jinja2 in /usr/local/lib/python3.12/dist-packages (from torch->-r requirements.txt (line 4)) (3.1.6)\n",
            "Requirement already satisfied: fsspec in /usr/local/lib/python3.12/dist-packages (from torch->-r requirements.txt (line 4)) (2025.3.0)\n",
            "Requirement already satisfied: nvidia-cuda-nvrtc-cu12==12.6.77 in /usr/local/lib/python3.12/dist-packages (from torch->-r requirements.txt (line 4)) (12.6.77)\n",
            "Requirement already satisfied: nvidia-cuda-runtime-cu12==12.6.77 in /usr/local/lib/python3.12/dist-packages (from torch->-r requirements.txt (line 4)) (12.6.77)\n",
            "Requirement already satisfied: nvidia-cuda-cupti-cu12==12.6.80 in /usr/local/lib/python3.12/dist-packages (from torch->-r requirements.txt (line 4)) (12.6.80)\n",
            "Requirement already satisfied: nvidia-cudnn-cu12==9.10.2.21 in /usr/local/lib/python3.12/dist-packages (from torch->-r requirements.txt (line 4)) (9.10.2.21)\n",
            "Requirement already satisfied: nvidia-cublas-cu12==12.6.4.1 in /usr/local/lib/python3.12/dist-packages (from torch->-r requirements.txt (line 4)) (12.6.4.1)\n",
            "Requirement already satisfied: nvidia-cufft-cu12==11.3.0.4 in /usr/local/lib/python3.12/dist-packages (from torch->-r requirements.txt (line 4)) (11.3.0.4)\n",
            "Requirement already satisfied: nvidia-curand-cu12==10.3.7.77 in /usr/local/lib/python3.12/dist-packages (from torch->-r requirements.txt (line 4)) (10.3.7.77)\n",
            "Requirement already satisfied: nvidia-cusolver-cu12==11.7.1.2 in /usr/local/lib/python3.12/dist-packages (from torch->-r requirements.txt (line 4)) (11.7.1.2)\n",
            "Requirement already satisfied: nvidia-cusparse-cu12==12.5.4.2 in /usr/local/lib/python3.12/dist-packages (from torch->-r requirements.txt (line 4)) (12.5.4.2)\n",
            "Requirement already satisfied: nvidia-cusparselt-cu12==0.7.1 in /usr/local/lib/python3.12/dist-packages (from torch->-r requirements.txt (line 4)) (0.7.1)\n",
            "Requirement already satisfied: nvidia-nccl-cu12==2.27.3 in /usr/local/lib/python3.12/dist-packages (from torch->-r requirements.txt (line 4)) (2.27.3)\n",
            "Requirement already satisfied: nvidia-nvtx-cu12==12.6.77 in /usr/local/lib/python3.12/dist-packages (from torch->-r requirements.txt (line 4)) (12.6.77)\n",
            "Requirement already satisfied: nvidia-nvjitlink-cu12==12.6.85 in /usr/local/lib/python3.12/dist-packages (from torch->-r requirements.txt (line 4)) (12.6.85)\n",
            "Requirement already satisfied: nvidia-cufile-cu12==1.11.1.6 in /usr/local/lib/python3.12/dist-packages (from torch->-r requirements.txt (line 4)) (1.11.1.6)\n",
            "Requirement already satisfied: triton==3.4.0 in /usr/local/lib/python3.12/dist-packages (from torch->-r requirements.txt (line 4)) (3.4.0)\n",
            "Requirement already satisfied: hf-xet<2.0.0,>=1.1.3 in /usr/local/lib/python3.12/dist-packages (from huggingface-hub<1.0,>=0.34.0->transformers==4.57.1->-r requirements.txt (line 3)) (1.2.0)\n",
            "Requirement already satisfied: mpmath<1.4,>=1.1.0 in /usr/local/lib/python3.12/dist-packages (from sympy>=1.13.3->torch->-r requirements.txt (line 4)) (1.3.0)\n",
            "Requirement already satisfied: MarkupSafe>=2.0 in /usr/local/lib/python3.12/dist-packages (from jinja2->torch->-r requirements.txt (line 4)) (3.0.3)\n",
            "Requirement already satisfied: cffi>=1.12 in /usr/local/lib/python3.12/dist-packages (from cryptography>=36.0.0->pdfminer.six==20250506->pdfplumber==0.11.7->-r requirements.txt (line 1)) (2.0.0)\n",
            "Requirement already satisfied: pycparser in /usr/local/lib/python3.12/dist-packages (from cffi>=1.12->cryptography>=36.0.0->pdfminer.six==20250506->pdfplumber==0.11.7->-r requirements.txt (line 1)) (2.23)\n"
          ]
        }
      ]
    },
    {
      "cell_type": "code",
      "source": [
        "!python {main_script}"
      ],
      "metadata": {
        "colab": {
          "base_uri": "https://localhost:8080/"
        },
        "id": "1PJePrbk40am",
        "outputId": "8f079f5a-7cae-4925-c634-75f9fcc354ad"
      },
      "execution_count": null,
      "outputs": [
        {
          "output_type": "stream",
          "name": "stdout",
          "text": [
            "2025-10-29 21:32:59.426164: E external/local_xla/xla/stream_executor/cuda/cuda_fft.cc:467] Unable to register cuFFT factory: Attempting to register factory for plugin cuFFT when one has already been registered\n",
            "WARNING: All log messages before absl::InitializeLog() is called are written to STDERR\n",
            "E0000 00:00:1761773579.455773    7736 cuda_dnn.cc:8579] Unable to register cuDNN factory: Attempting to register factory for plugin cuDNN when one has already been registered\n",
            "E0000 00:00:1761773579.465456    7736 cuda_blas.cc:1407] Unable to register cuBLAS factory: Attempting to register factory for plugin cuBLAS when one has already been registered\n",
            "W0000 00:00:1761773579.490325    7736 computation_placer.cc:177] computation placer already registered. Please check linkage and avoid linking the same target more than once.\n",
            "W0000 00:00:1761773579.490364    7736 computation_placer.cc:177] computation placer already registered. Please check linkage and avoid linking the same target more than once.\n",
            "W0000 00:00:1761773579.490373    7736 computation_placer.cc:177] computation placer already registered. Please check linkage and avoid linking the same target more than once.\n",
            "W0000 00:00:1761773579.490380    7736 computation_placer.cc:177] computation placer already registered. Please check linkage and avoid linking the same target more than once.\n",
            "2025-10-29 21:32:59.497495: I tensorflow/core/platform/cpu_feature_guard.cc:210] This TensorFlow binary is optimized to use available CPU instructions in performance-critical operations.\n",
            "To enable the following instructions: AVX2 FMA, in other operations, rebuild TensorFlow with the appropriate compiler flags.\n",
            "=== Concurso Renda Extra Ton ===\n",
            "Texto referente a seção 9. Privacidade e Proteção de Dados Pessoais: 9.1. Para fins da presente Cláusula, os termos iniciados em letra maiúscula “Controladorˮ, “Dado Pessoalˮ, “Base Legalˮ, “Tratamentoˮ e “Titularˮ, independentemente de estarem no feminino ou masculino, plural ou singular, terão o significado que lhes é atribuído no art. 5º, da Lei nº 13.709/18 (“LGPDˮ), conforme alterada.\n",
            "Original content:  Texto referente a seção 9. Privacidade e Proteção de Dados Pessoais: 9.1. Para fins da presente Cláusula, os termos iniciados em letra maiúscula “Controladorˮ, “Dado Pessoalˮ, “Base Legalˮ, “Tratamentoˮ e “Titularˮ, independentemente de estarem no feminino ou masculino, plural ou singular, terão o significado que lhes é atribuído no art. 5º, da Lei nº 13.709/18 (“LGPDˮ), conforme alterada.\n",
            "Content translated to English:  For the purposes of this Clause, the terms started in the capital letter “Controlador”, “Dado Pessoal”, “Base Legal”, “Tratamento” and “Titular”, regardless of being in female or male, plural or singular, will have the meaning assigned to them in Article 5 of Law No 13.709/18 (“LGPD’), as amended.\n",
            "Summarized content:   The terms started in the capital letter “Controlador”, “Dado Pessoal” and “Tratamento” will have the meaning assigned to them in Article 5 of Law No 13.709/18 (“LGPD’), as amended .\n",
            "English Question:  What is the meaning of the terms started in the capital letter “Controlador”, “Dado Pessoal” and “Tratamento”?\n",
            "English Correct Answer:  LGPD\n",
            "Portuguese answers:  LGPD.\n",
            "Portuguese answers:  “Controlador”, “Dado Pessoal”, “Base Legal”, “Tratamento” e “Titular”, independentemente de serem do sexo feminino ou masculino, plural ou singular, terão o significado que lhes é atribuído pelo artigo 5.o da Lei n.o 13.709/18 (“LGPD”), com a última redacção que lhe foi dada.\n",
            "Portuguese answers:  “Controlador”, “Dado Pessoal”, “Base Legal”, “Tratamento” e “Titular”, independentemente de serem do sexo feminino ou masculino, plural ou singular, terão o significado que lhes é atribuído pelo artigo 5.o da Lei n.o 13.709/18 (“LGPD”), com a última redacção que lhe foi dada.\n",
            "Portuguese answers:  “Controlador”, “Dado Pessoal”, “Base Legal”, “Tratamento” e “Titular”, independentemente de serem do sexo feminino ou masculino, plural ou singular, terão o significado que lhes é atribuído pelo artigo 5.o da Lei n.o 13.709/18 (“LGPD”), com a última redacção que lhe foi dada.\n",
            "\n",
            "Pergunta 1: Qual o sentido dos termos iniciados na letra maiúscula “Controlador”, “Dado Pessoal” e “Tratamento”?.\n",
            "1) LGPD.\n",
            "2) “Controlador”, “Dado Pessoal”, “Base Legal”, “Tratamento” e “Titular”, independentemente de serem do sexo feminino ou masculino, plural ou singular, terão o significado que lhes é atribuído pelo artigo 5.o da Lei n.o 13.709/18 (“LGPD”), com a última redacção que lhe foi dada.\n",
            "3) “Controlador”, “Dado Pessoal”, “Base Legal”, “Tratamento” e “Titular”, independentemente de serem do sexo feminino ou masculino, plural ou singular, terão o significado que lhes é atribuído pelo artigo 5.o da Lei n.o 13.709/18 (“LGPD”), com a última redacção que lhe foi dada.\n",
            "4) “Controlador”, “Dado Pessoal”, “Base Legal”, “Tratamento” e “Titular”, independentemente de serem do sexo feminino ou masculino, plural ou singular, terão o significado que lhes é atribuído pelo artigo 5.o da Lei n.o 13.709/18 (“LGPD”), com a última redacção que lhe foi dada.\n",
            "Escolha a alternativa correta (1-4): "
          ]
        }
      ]
    }
  ]
}